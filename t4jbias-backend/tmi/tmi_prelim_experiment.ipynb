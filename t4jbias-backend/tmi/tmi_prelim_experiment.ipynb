{
 "cells": [
  {
   "cell_type": "markdown",
   "id": "5981d885-2d02-4b26-b808-8c5d346f3319",
   "metadata": {},
   "source": [
    "# Too Much Information Preliminary Experiment"
   ]
  },
  {
   "cell_type": "markdown",
   "id": "8b8f8b5c-3ebd-4d15-9ca9-5b6d48bcb305",
   "metadata": {},
   "source": [
    "The aim of this experiment is to determine whether or not too much information is given in the context surrounding particular negative events when involving members of (for example) a minority group."
   ]
  },
  {
   "cell_type": "markdown",
   "id": "f6a6d171-b130-4bae-92aa-74528ef8fa6c",
   "metadata": {},
   "source": [
    "### 1. Setup Experiment"
   ]
  },
  {
   "cell_type": "markdown",
   "id": "c17a61fd-15e2-4955-8b82-46ea5d5e8bfa",
   "metadata": {},
   "source": [
    "For this experiment 30 articles will be loaded in. These articles have been extracted using the BingAPI with the search keyword being \"murder\". The result is stored in a python pickle located in the data folder for tmi. "
   ]
  },
  {
   "cell_type": "code",
   "execution_count": 1,
   "id": "8e4896e0-db82-4549-af11-d4b997dfe269",
   "metadata": {},
   "outputs": [],
   "source": [
    "import pickle\n",
    "murder_articles = pickle.load(open(\"../../data/articles/article_dict.pkl\", \"rb\"))"
   ]
  },
  {
   "cell_type": "markdown",
   "id": "ede0ce7a-314d-4173-83e8-85fdc22edd3e",
   "metadata": {},
   "source": [
    "In the next step we will import the necessary methods to conduct the experiment. There are two files containing the necessary classes. "
   ]
  },
  {
   "cell_type": "code",
   "execution_count": 2,
   "id": "05ef1dee-9217-4304-a68c-9cd0c8d843c5",
   "metadata": {},
   "outputs": [],
   "source": [
    "from python_code.tmi_logic import TMIAnalysis\n",
    "from python_code.helperfunctions import Helperfunctions, DescriptorAnalysis"
   ]
  },
  {
   "cell_type": "code",
   "execution_count": 3,
   "id": "d1b4e5a6-c0c8-4790-b6c0-cf6e6d70c9ec",
   "metadata": {},
   "outputs": [],
   "source": [
    "%load_ext autoreload\n",
    "%autoreload 2"
   ]
  },
  {
   "cell_type": "markdown",
   "id": "d7ce2a10-3229-47ba-b0e8-38f81e9511f9",
   "metadata": {},
   "source": [
    "---"
   ]
  },
  {
   "cell_type": "markdown",
   "id": "30548d40-6d4e-47a1-8953-2678c0b66dae",
   "metadata": {},
   "source": [
    "### 2. Create Initial Dataframe"
   ]
  },
  {
   "cell_type": "markdown",
   "id": "dd5b3682-282a-476e-bebb-01b62deb0880",
   "metadata": {},
   "source": [
    "To create our initial dataframe we pass the articles (murder_articles) to the class \"TMIAnalysis\". In the background a dataframe is created containing the columns: \n",
    "- URL (index)\n",
    "- article_content\n",
    "- news_outlet\n",
    "- headline\n",
    "\n",
    "Furthermore, a first cleaning step is initiliased, eliminating unnecessary sentence punctuation. "
   ]
  },
  {
   "cell_type": "code",
   "execution_count": 4,
   "id": "8d95c4fa-f801-4c98-95c1-aea828745b2d",
   "metadata": {},
   "outputs": [],
   "source": [
    "TMI_analysis = TMIAnalysis(murder_articles)"
   ]
  },
  {
   "cell_type": "markdown",
   "id": "dcd5c15f-9f02-4227-ad62-bc2c61f7731e",
   "metadata": {},
   "source": [
    "We can access the dataframe throughout the entire experiment by calling the property <b>\"dataframe\"</b> on our object TMI_analysis."
   ]
  },
  {
   "cell_type": "code",
   "execution_count": 5,
   "id": "e42f59d1-4367-4921-9e91-87a259f8ab53",
   "metadata": {},
   "outputs": [
    {
     "data": {
      "text/html": [
       "<div>\n",
       "<style scoped>\n",
       "    .dataframe tbody tr th:only-of-type {\n",
       "        vertical-align: middle;\n",
       "    }\n",
       "\n",
       "    .dataframe tbody tr th {\n",
       "        vertical-align: top;\n",
       "    }\n",
       "\n",
       "    .dataframe thead th {\n",
       "        text-align: right;\n",
       "    }\n",
       "</style>\n",
       "<table border=\"1\" class=\"dataframe\">\n",
       "  <thead>\n",
       "    <tr style=\"text-align: right;\">\n",
       "      <th></th>\n",
       "      <th>headline</th>\n",
       "      <th>newsoutlet_name</th>\n",
       "      <th>article_content</th>\n",
       "    </tr>\n",
       "    <tr>\n",
       "      <th>URL</th>\n",
       "      <th></th>\n",
       "      <th></th>\n",
       "      <th></th>\n",
       "    </tr>\n",
       "  </thead>\n",
       "  <tbody>\n",
       "    <tr>\n",
       "      <th>https://www.msn.com/en-us/news/crime/from-humiliating-defendants-to-giving-them-wide-latitude-the-confident-judge-overseeing-kyle-rittenhouse-s-murder-trial-doesn-t-shy-from-controversy/ar-AAQ7DPH</th>\n",
       "      <td>From humiliating defendants to giving them wid...</td>\n",
       "      <td>msn</td>\n",
       "      <td>KENOSHA, Wis. — In the weeks leading up to Kyl...</td>\n",
       "    </tr>\n",
       "  </tbody>\n",
       "</table>\n",
       "</div>"
      ],
      "text/plain": [
       "                                                                                             headline  \\\n",
       "URL                                                                                                     \n",
       "https://www.msn.com/en-us/news/crime/from-humil...  From humiliating defendants to giving them wid...   \n",
       "\n",
       "                                                   newsoutlet_name  \\\n",
       "URL                                                                  \n",
       "https://www.msn.com/en-us/news/crime/from-humil...             msn   \n",
       "\n",
       "                                                                                      article_content  \n",
       "URL                                                                                                    \n",
       "https://www.msn.com/en-us/news/crime/from-humil...  KENOSHA, Wis. — In the weeks leading up to Kyl...  "
      ]
     },
     "execution_count": 5,
     "metadata": {},
     "output_type": "execute_result"
    }
   ],
   "source": [
    "TMI_analysis.dataframe.head(1)"
   ]
  },
  {
   "cell_type": "markdown",
   "id": "9f01adf8-56ba-4795-a349-296544e5f9fa",
   "metadata": {},
   "source": [
    "---"
   ]
  },
  {
   "cell_type": "markdown",
   "id": "a9ee2867-92ed-4bcc-8cc7-7b1a7322e62a",
   "metadata": {},
   "source": [
    "### 3. Filter Articles "
   ]
  },
  {
   "cell_type": "markdown",
   "id": "8a5dfdcd-5f08-4bf5-b46d-a5102c06d727",
   "metadata": {},
   "source": [
    "While the BingAPI is able to return articles for a specfic keyword (in our case \"murder\"), there might be certain articles that we are not interested in. For example an article talking about a murder TV series. <br> To filter these articles out we utilise <b>Watson Natural Language Understanding</b>. We provide a category so that in the following step all articles not belonging in that category are filtered out.\n",
    "At the same time Watson NLU classifies <b>entities</b> in the headline which are added as a column to the dataframe.\n",
    "\n",
    "\n",
    "We are only interested in articles belonging to the category <i>\"/society/crime\"</i>.\n",
    "\n",
    "Categories can be found at: https://cloud.ibm.com/docs/natural-language-understanding?topic=natural-language-understanding-categories-hierarchy-v1"
   ]
  },
  {
   "cell_type": "code",
   "execution_count": 6,
   "id": "d7b543dc-5641-45fa-a23b-c2f827c7d0bf",
   "metadata": {},
   "outputs": [
    {
     "name": "stdout",
     "output_type": "stream",
     "text": [
      "removed https://www.cbsnews.com/news/heather-mack-bail-american-woman-convicted-suitcase-murder-mother-indonesia-freed/\n",
      "removed https://www.sfgate.com/news/article/US-woman-in-Bali-suitcase-murder-freed-from-jail-16573503.php\n",
      "removed https://www.msn.com/en-us/travel/tripideas/off-hours-celebrate-halloween-in-des-moines-with-spooky-movies-pie-in-a-glass-and-murder-mysteries/ar-AAQ619x\n"
     ]
    }
   ],
   "source": [
    "TMI_analysis.filter_out_articles(\"/society/crime\")"
   ]
  },
  {
   "cell_type": "markdown",
   "id": "14e3775b-ba87-4f76-a241-d1d6e066857e",
   "metadata": {},
   "source": [
    "---"
   ]
  },
  {
   "cell_type": "markdown",
   "id": "5b1e2245-a8b0-41a6-8fcd-80fc1a94f5ab",
   "metadata": {},
   "source": [
    "### 4. Find Ethnicity Keywords in Articles"
   ]
  },
  {
   "cell_type": "markdown",
   "id": "fbf6d330-ed24-4eb9-99cb-dd7ba33fd6e0",
   "metadata": {},
   "source": [
    "Find ethnicity keywords in the article text. For each found keyword a column with the count of that ethnicity in the article text is appended to the dataframe.\n",
    "\n",
    "<i>Source for ethnicity keywords:</i> https://jech.bmj.com/content/58/6/441"
   ]
  },
  {
   "cell_type": "code",
   "execution_count": 7,
   "id": "8c8e4532-a91e-42a6-a94b-563ddb0b8990",
   "metadata": {},
   "outputs": [
    {
     "name": "stdout",
     "output_type": "stream",
     "text": [
      "<class 'pandas.core.frame.DataFrame'>\n",
      "Index: 23 entries, https://www.msn.com/en-us/news/crime/from-humiliating-defendants-to-giving-them-wide-latitude-the-confident-judge-overseeing-kyle-rittenhouse-s-murder-trial-doesn-t-shy-from-controversy/ar-AAQ7DPH to https://www.mercurynews.com/2021/10/27/long-beach-school-officer-who-fatally-shot-18-year-old-woman-charged-with-murder/\n",
      "Data columns (total 9 columns):\n",
      " #   Column           Non-Null Count  Dtype \n",
      "---  ------           --------------  ----- \n",
      " 0   headline         23 non-null     object\n",
      " 1   newsoutlet_name  23 non-null     object\n",
      " 2   article_content  23 non-null     object\n",
      " 3   black            23 non-null     int64 \n",
      " 4   color            23 non-null     int64 \n",
      " 5   foreign          23 non-null     int64 \n",
      " 6   foreigner        23 non-null     int64 \n",
      " 7   japanese         23 non-null     int64 \n",
      " 8   white            23 non-null     int64 \n",
      "dtypes: int64(6), object(3)\n",
      "memory usage: 2.4+ KB\n",
      "None\n"
     ]
    },
    {
     "data": {
      "text/html": [
       "<style  type=\"text/css\" >\n",
       "#T_30c5b22c_39a4_11ec_8b28_f0189811c772row0_col0,#T_30c5b22c_39a4_11ec_8b28_f0189811c772row0_col1,#T_30c5b22c_39a4_11ec_8b28_f0189811c772row0_col5,#T_30c5b22c_39a4_11ec_8b28_f0189811c772row2_col0,#T_30c5b22c_39a4_11ec_8b28_f0189811c772row2_col4,#T_30c5b22c_39a4_11ec_8b28_f0189811c772row4_col2,#T_30c5b22c_39a4_11ec_8b28_f0189811c772row17_col3{\n",
       "            background-color:  yellow;\n",
       "        }</style><table id=\"T_30c5b22c_39a4_11ec_8b28_f0189811c772\" ><thead>    <tr>        <th class=\"blank level0\" ></th>        <th class=\"col_heading level0 col0\" >black</th>        <th class=\"col_heading level0 col1\" >color</th>        <th class=\"col_heading level0 col2\" >foreign</th>        <th class=\"col_heading level0 col3\" >foreigner</th>        <th class=\"col_heading level0 col4\" >japanese</th>        <th class=\"col_heading level0 col5\" >white</th>    </tr>    <tr>        <th class=\"index_name level0\" >URL</th>        <th class=\"blank\" ></th>        <th class=\"blank\" ></th>        <th class=\"blank\" ></th>        <th class=\"blank\" ></th>        <th class=\"blank\" ></th>        <th class=\"blank\" ></th>    </tr></thead><tbody>\n",
       "                <tr>\n",
       "                        <th id=\"T_30c5b22c_39a4_11ec_8b28_f0189811c772level0_row0\" class=\"row_heading level0 row0\" >https://www.msn.com/en-us/news/crime/from-humiliating-defendants-to-giving-them-wide-latitude-the-confident-judge-overseeing-kyle-rittenhouse-s-murder-trial-doesn-t-shy-from-controversy/ar-AAQ7DPH</th>\n",
       "                        <td id=\"T_30c5b22c_39a4_11ec_8b28_f0189811c772row0_col0\" class=\"data row0 col0\" >1</td>\n",
       "                        <td id=\"T_30c5b22c_39a4_11ec_8b28_f0189811c772row0_col1\" class=\"data row0 col1\" >1</td>\n",
       "                        <td id=\"T_30c5b22c_39a4_11ec_8b28_f0189811c772row0_col2\" class=\"data row0 col2\" >0</td>\n",
       "                        <td id=\"T_30c5b22c_39a4_11ec_8b28_f0189811c772row0_col3\" class=\"data row0 col3\" >0</td>\n",
       "                        <td id=\"T_30c5b22c_39a4_11ec_8b28_f0189811c772row0_col4\" class=\"data row0 col4\" >0</td>\n",
       "                        <td id=\"T_30c5b22c_39a4_11ec_8b28_f0189811c772row0_col5\" class=\"data row0 col5\" >7</td>\n",
       "            </tr>\n",
       "            <tr>\n",
       "                        <th id=\"T_30c5b22c_39a4_11ec_8b28_f0189811c772level0_row1\" class=\"row_heading level0 row1\" >https://news.yahoo.com/former-nypd-officer-sentenced-murder-043640505.html</th>\n",
       "                        <td id=\"T_30c5b22c_39a4_11ec_8b28_f0189811c772row1_col0\" class=\"data row1 col0\" >0</td>\n",
       "                        <td id=\"T_30c5b22c_39a4_11ec_8b28_f0189811c772row1_col1\" class=\"data row1 col1\" >0</td>\n",
       "                        <td id=\"T_30c5b22c_39a4_11ec_8b28_f0189811c772row1_col2\" class=\"data row1 col2\" >0</td>\n",
       "                        <td id=\"T_30c5b22c_39a4_11ec_8b28_f0189811c772row1_col3\" class=\"data row1 col3\" >0</td>\n",
       "                        <td id=\"T_30c5b22c_39a4_11ec_8b28_f0189811c772row1_col4\" class=\"data row1 col4\" >0</td>\n",
       "                        <td id=\"T_30c5b22c_39a4_11ec_8b28_f0189811c772row1_col5\" class=\"data row1 col5\" >0</td>\n",
       "            </tr>\n",
       "            <tr>\n",
       "                        <th id=\"T_30c5b22c_39a4_11ec_8b28_f0189811c772level0_row2\" class=\"row_heading level0 row2\" >https://news.yahoo.com/man-arrested-charged-murder-case-212316423.html</th>\n",
       "                        <td id=\"T_30c5b22c_39a4_11ec_8b28_f0189811c772row2_col0\" class=\"data row2 col0\" >1</td>\n",
       "                        <td id=\"T_30c5b22c_39a4_11ec_8b28_f0189811c772row2_col1\" class=\"data row2 col1\" >0</td>\n",
       "                        <td id=\"T_30c5b22c_39a4_11ec_8b28_f0189811c772row2_col2\" class=\"data row2 col2\" >0</td>\n",
       "                        <td id=\"T_30c5b22c_39a4_11ec_8b28_f0189811c772row2_col3\" class=\"data row2 col3\" >0</td>\n",
       "                        <td id=\"T_30c5b22c_39a4_11ec_8b28_f0189811c772row2_col4\" class=\"data row2 col4\" >1</td>\n",
       "                        <td id=\"T_30c5b22c_39a4_11ec_8b28_f0189811c772row2_col5\" class=\"data row2 col5\" >1</td>\n",
       "            </tr>\n",
       "            <tr>\n",
       "                        <th id=\"T_30c5b22c_39a4_11ec_8b28_f0189811c772level0_row3\" class=\"row_heading level0 row3\" >https://www.washingtonpost.com/nation/2021/10/28/california-high-school-officer-charged-murder/</th>\n",
       "                        <td id=\"T_30c5b22c_39a4_11ec_8b28_f0189811c772row3_col0\" class=\"data row3 col0\" >0</td>\n",
       "                        <td id=\"T_30c5b22c_39a4_11ec_8b28_f0189811c772row3_col1\" class=\"data row3 col1\" >0</td>\n",
       "                        <td id=\"T_30c5b22c_39a4_11ec_8b28_f0189811c772row3_col2\" class=\"data row3 col2\" >0</td>\n",
       "                        <td id=\"T_30c5b22c_39a4_11ec_8b28_f0189811c772row3_col3\" class=\"data row3 col3\" >0</td>\n",
       "                        <td id=\"T_30c5b22c_39a4_11ec_8b28_f0189811c772row3_col4\" class=\"data row3 col4\" >0</td>\n",
       "                        <td id=\"T_30c5b22c_39a4_11ec_8b28_f0189811c772row3_col5\" class=\"data row3 col5\" >0</td>\n",
       "            </tr>\n",
       "            <tr>\n",
       "                        <th id=\"T_30c5b22c_39a4_11ec_8b28_f0189811c772level0_row4\" class=\"row_heading level0 row4\" >https://www.msn.com/en-us/news/crime/woman-in-bali-suitcase-murder-to-be-deported-to-us-without-her-daughter/ar-AAQ5G2V</th>\n",
       "                        <td id=\"T_30c5b22c_39a4_11ec_8b28_f0189811c772row4_col0\" class=\"data row4 col0\" >0</td>\n",
       "                        <td id=\"T_30c5b22c_39a4_11ec_8b28_f0189811c772row4_col1\" class=\"data row4 col1\" >0</td>\n",
       "                        <td id=\"T_30c5b22c_39a4_11ec_8b28_f0189811c772row4_col2\" class=\"data row4 col2\" >1</td>\n",
       "                        <td id=\"T_30c5b22c_39a4_11ec_8b28_f0189811c772row4_col3\" class=\"data row4 col3\" >0</td>\n",
       "                        <td id=\"T_30c5b22c_39a4_11ec_8b28_f0189811c772row4_col4\" class=\"data row4 col4\" >0</td>\n",
       "                        <td id=\"T_30c5b22c_39a4_11ec_8b28_f0189811c772row4_col5\" class=\"data row4 col5\" >0</td>\n",
       "            </tr>\n",
       "            <tr>\n",
       "                        <th id=\"T_30c5b22c_39a4_11ec_8b28_f0189811c772level0_row5\" class=\"row_heading level0 row5\" >https://www.chicagotribune.com/news/criminal-justice/ct-chicago-police-wrongful-conviction-lawsuit-verdict-eddie-bolden-20211029-oj7wm5vadzeazmndcdsscyscni-story.html</th>\n",
       "                        <td id=\"T_30c5b22c_39a4_11ec_8b28_f0189811c772row5_col0\" class=\"data row5 col0\" >0</td>\n",
       "                        <td id=\"T_30c5b22c_39a4_11ec_8b28_f0189811c772row5_col1\" class=\"data row5 col1\" >0</td>\n",
       "                        <td id=\"T_30c5b22c_39a4_11ec_8b28_f0189811c772row5_col2\" class=\"data row5 col2\" >0</td>\n",
       "                        <td id=\"T_30c5b22c_39a4_11ec_8b28_f0189811c772row5_col3\" class=\"data row5 col3\" >0</td>\n",
       "                        <td id=\"T_30c5b22c_39a4_11ec_8b28_f0189811c772row5_col4\" class=\"data row5 col4\" >0</td>\n",
       "                        <td id=\"T_30c5b22c_39a4_11ec_8b28_f0189811c772row5_col5\" class=\"data row5 col5\" >0</td>\n",
       "            </tr>\n",
       "            <tr>\n",
       "                        <th id=\"T_30c5b22c_39a4_11ec_8b28_f0189811c772level0_row6\" class=\"row_heading level0 row6\" >https://www.msn.com/en-us/news/crime/three-men-charged-with-murder-in-fatal-stabbing-victim-identified-as-19-year-old-norwalk-man/ar-AAQ631V</th>\n",
       "                        <td id=\"T_30c5b22c_39a4_11ec_8b28_f0189811c772row6_col0\" class=\"data row6 col0\" >0</td>\n",
       "                        <td id=\"T_30c5b22c_39a4_11ec_8b28_f0189811c772row6_col1\" class=\"data row6 col1\" >0</td>\n",
       "                        <td id=\"T_30c5b22c_39a4_11ec_8b28_f0189811c772row6_col2\" class=\"data row6 col2\" >0</td>\n",
       "                        <td id=\"T_30c5b22c_39a4_11ec_8b28_f0189811c772row6_col3\" class=\"data row6 col3\" >0</td>\n",
       "                        <td id=\"T_30c5b22c_39a4_11ec_8b28_f0189811c772row6_col4\" class=\"data row6 col4\" >0</td>\n",
       "                        <td id=\"T_30c5b22c_39a4_11ec_8b28_f0189811c772row6_col5\" class=\"data row6 col5\" >0</td>\n",
       "            </tr>\n",
       "            <tr>\n",
       "                        <th id=\"T_30c5b22c_39a4_11ec_8b28_f0189811c772level0_row7\" class=\"row_heading level0 row7\" >https://www.nbcnews.com/news/world/us-woman-imprisoned-mothers-suitcase-murder-bali-freed-jail-rcna4078</th>\n",
       "                        <td id=\"T_30c5b22c_39a4_11ec_8b28_f0189811c772row7_col0\" class=\"data row7 col0\" >0</td>\n",
       "                        <td id=\"T_30c5b22c_39a4_11ec_8b28_f0189811c772row7_col1\" class=\"data row7 col1\" >0</td>\n",
       "                        <td id=\"T_30c5b22c_39a4_11ec_8b28_f0189811c772row7_col2\" class=\"data row7 col2\" >0</td>\n",
       "                        <td id=\"T_30c5b22c_39a4_11ec_8b28_f0189811c772row7_col3\" class=\"data row7 col3\" >0</td>\n",
       "                        <td id=\"T_30c5b22c_39a4_11ec_8b28_f0189811c772row7_col4\" class=\"data row7 col4\" >0</td>\n",
       "                        <td id=\"T_30c5b22c_39a4_11ec_8b28_f0189811c772row7_col5\" class=\"data row7 col5\" >0</td>\n",
       "            </tr>\n",
       "            <tr>\n",
       "                        <th id=\"T_30c5b22c_39a4_11ec_8b28_f0189811c772level0_row8\" class=\"row_heading level0 row8\" >https://www.mlive.com/news/saginaw-bay-city/2021/10/man-testifies-from-prison-that-juvenile-cousin-did-not-participate-in-rape-murder-of-18-year-old-in-1997.html</th>\n",
       "                        <td id=\"T_30c5b22c_39a4_11ec_8b28_f0189811c772row8_col0\" class=\"data row8 col0\" >0</td>\n",
       "                        <td id=\"T_30c5b22c_39a4_11ec_8b28_f0189811c772row8_col1\" class=\"data row8 col1\" >0</td>\n",
       "                        <td id=\"T_30c5b22c_39a4_11ec_8b28_f0189811c772row8_col2\" class=\"data row8 col2\" >0</td>\n",
       "                        <td id=\"T_30c5b22c_39a4_11ec_8b28_f0189811c772row8_col3\" class=\"data row8 col3\" >0</td>\n",
       "                        <td id=\"T_30c5b22c_39a4_11ec_8b28_f0189811c772row8_col4\" class=\"data row8 col4\" >0</td>\n",
       "                        <td id=\"T_30c5b22c_39a4_11ec_8b28_f0189811c772row8_col5\" class=\"data row8 col5\" >2</td>\n",
       "            </tr>\n",
       "            <tr>\n",
       "                        <th id=\"T_30c5b22c_39a4_11ec_8b28_f0189811c772level0_row9\" class=\"row_heading level0 row9\" >https://www.mlive.com/news/saginaw-bay-city/2021/10/saginaw-woman-found-guilty-of-second-degree-murder-in-death-of-man-she-ran-over.html</th>\n",
       "                        <td id=\"T_30c5b22c_39a4_11ec_8b28_f0189811c772row9_col0\" class=\"data row9 col0\" >0</td>\n",
       "                        <td id=\"T_30c5b22c_39a4_11ec_8b28_f0189811c772row9_col1\" class=\"data row9 col1\" >0</td>\n",
       "                        <td id=\"T_30c5b22c_39a4_11ec_8b28_f0189811c772row9_col2\" class=\"data row9 col2\" >0</td>\n",
       "                        <td id=\"T_30c5b22c_39a4_11ec_8b28_f0189811c772row9_col3\" class=\"data row9 col3\" >0</td>\n",
       "                        <td id=\"T_30c5b22c_39a4_11ec_8b28_f0189811c772row9_col4\" class=\"data row9 col4\" >0</td>\n",
       "                        <td id=\"T_30c5b22c_39a4_11ec_8b28_f0189811c772row9_col5\" class=\"data row9 col5\" >0</td>\n",
       "            </tr>\n",
       "            <tr>\n",
       "                        <th id=\"T_30c5b22c_39a4_11ec_8b28_f0189811c772level0_row10\" class=\"row_heading level0 row10\" >https://www.al.com/news/huntsville/2021/10/huntsville-man-charged-with-murder-in-oct-9-shooting-death.html</th>\n",
       "                        <td id=\"T_30c5b22c_39a4_11ec_8b28_f0189811c772row10_col0\" class=\"data row10 col0\" >0</td>\n",
       "                        <td id=\"T_30c5b22c_39a4_11ec_8b28_f0189811c772row10_col1\" class=\"data row10 col1\" >0</td>\n",
       "                        <td id=\"T_30c5b22c_39a4_11ec_8b28_f0189811c772row10_col2\" class=\"data row10 col2\" >0</td>\n",
       "                        <td id=\"T_30c5b22c_39a4_11ec_8b28_f0189811c772row10_col3\" class=\"data row10 col3\" >0</td>\n",
       "                        <td id=\"T_30c5b22c_39a4_11ec_8b28_f0189811c772row10_col4\" class=\"data row10 col4\" >0</td>\n",
       "                        <td id=\"T_30c5b22c_39a4_11ec_8b28_f0189811c772row10_col5\" class=\"data row10 col5\" >0</td>\n",
       "            </tr>\n",
       "            <tr>\n",
       "                        <th id=\"T_30c5b22c_39a4_11ec_8b28_f0189811c772level0_row11\" class=\"row_heading level0 row11\" >https://www.washingtonpost.com/world/2021/10/29/us-suitcase-murder-bali-jail-release/</th>\n",
       "                        <td id=\"T_30c5b22c_39a4_11ec_8b28_f0189811c772row11_col0\" class=\"data row11 col0\" >0</td>\n",
       "                        <td id=\"T_30c5b22c_39a4_11ec_8b28_f0189811c772row11_col1\" class=\"data row11 col1\" >0</td>\n",
       "                        <td id=\"T_30c5b22c_39a4_11ec_8b28_f0189811c772row11_col2\" class=\"data row11 col2\" >0</td>\n",
       "                        <td id=\"T_30c5b22c_39a4_11ec_8b28_f0189811c772row11_col3\" class=\"data row11 col3\" >0</td>\n",
       "                        <td id=\"T_30c5b22c_39a4_11ec_8b28_f0189811c772row11_col4\" class=\"data row11 col4\" >0</td>\n",
       "                        <td id=\"T_30c5b22c_39a4_11ec_8b28_f0189811c772row11_col5\" class=\"data row11 col5\" >0</td>\n",
       "            </tr>\n",
       "            <tr>\n",
       "                        <th id=\"T_30c5b22c_39a4_11ec_8b28_f0189811c772level0_row12\" class=\"row_heading level0 row12\" >https://www.nytimes.com/2021/10/27/nyregion/monica-goods-christopher-baldner.html</th>\n",
       "                        <td id=\"T_30c5b22c_39a4_11ec_8b28_f0189811c772row12_col0\" class=\"data row12 col0\" >0</td>\n",
       "                        <td id=\"T_30c5b22c_39a4_11ec_8b28_f0189811c772row12_col1\" class=\"data row12 col1\" >0</td>\n",
       "                        <td id=\"T_30c5b22c_39a4_11ec_8b28_f0189811c772row12_col2\" class=\"data row12 col2\" >0</td>\n",
       "                        <td id=\"T_30c5b22c_39a4_11ec_8b28_f0189811c772row12_col3\" class=\"data row12 col3\" >0</td>\n",
       "                        <td id=\"T_30c5b22c_39a4_11ec_8b28_f0189811c772row12_col4\" class=\"data row12 col4\" >0</td>\n",
       "                        <td id=\"T_30c5b22c_39a4_11ec_8b28_f0189811c772row12_col5\" class=\"data row12 col5\" >0</td>\n",
       "            </tr>\n",
       "            <tr>\n",
       "                        <th id=\"T_30c5b22c_39a4_11ec_8b28_f0189811c772level0_row13\" class=\"row_heading level0 row13\" >https://www.mercurynews.com/2021/10/28/man-charged-with-murder-in-richmond-shooting-during-argument/</th>\n",
       "                        <td id=\"T_30c5b22c_39a4_11ec_8b28_f0189811c772row13_col0\" class=\"data row13 col0\" >0</td>\n",
       "                        <td id=\"T_30c5b22c_39a4_11ec_8b28_f0189811c772row13_col1\" class=\"data row13 col1\" >0</td>\n",
       "                        <td id=\"T_30c5b22c_39a4_11ec_8b28_f0189811c772row13_col2\" class=\"data row13 col2\" >0</td>\n",
       "                        <td id=\"T_30c5b22c_39a4_11ec_8b28_f0189811c772row13_col3\" class=\"data row13 col3\" >0</td>\n",
       "                        <td id=\"T_30c5b22c_39a4_11ec_8b28_f0189811c772row13_col4\" class=\"data row13 col4\" >0</td>\n",
       "                        <td id=\"T_30c5b22c_39a4_11ec_8b28_f0189811c772row13_col5\" class=\"data row13 col5\" >0</td>\n",
       "            </tr>\n",
       "            <tr>\n",
       "                        <th id=\"T_30c5b22c_39a4_11ec_8b28_f0189811c772level0_row14\" class=\"row_heading level0 row14\" >https://www.reuters.com/world/asia-pacific/us-woman-who-assisted-bali-suitcase-murder-released-jail-2021-10-29/</th>\n",
       "                        <td id=\"T_30c5b22c_39a4_11ec_8b28_f0189811c772row14_col0\" class=\"data row14 col0\" >0</td>\n",
       "                        <td id=\"T_30c5b22c_39a4_11ec_8b28_f0189811c772row14_col1\" class=\"data row14 col1\" >0</td>\n",
       "                        <td id=\"T_30c5b22c_39a4_11ec_8b28_f0189811c772row14_col2\" class=\"data row14 col2\" >0</td>\n",
       "                        <td id=\"T_30c5b22c_39a4_11ec_8b28_f0189811c772row14_col3\" class=\"data row14 col3\" >0</td>\n",
       "                        <td id=\"T_30c5b22c_39a4_11ec_8b28_f0189811c772row14_col4\" class=\"data row14 col4\" >0</td>\n",
       "                        <td id=\"T_30c5b22c_39a4_11ec_8b28_f0189811c772row14_col5\" class=\"data row14 col5\" >0</td>\n",
       "            </tr>\n",
       "            <tr>\n",
       "                        <th id=\"T_30c5b22c_39a4_11ec_8b28_f0189811c772level0_row15\" class=\"row_heading level0 row15\" >https://www.msn.com/en-us/news/crime/former-california-school-safety-officer-charged-with-murder-in-fatal-shooting/ar-AAQ26mW</th>\n",
       "                        <td id=\"T_30c5b22c_39a4_11ec_8b28_f0189811c772row15_col0\" class=\"data row15 col0\" >0</td>\n",
       "                        <td id=\"T_30c5b22c_39a4_11ec_8b28_f0189811c772row15_col1\" class=\"data row15 col1\" >0</td>\n",
       "                        <td id=\"T_30c5b22c_39a4_11ec_8b28_f0189811c772row15_col2\" class=\"data row15 col2\" >0</td>\n",
       "                        <td id=\"T_30c5b22c_39a4_11ec_8b28_f0189811c772row15_col3\" class=\"data row15 col3\" >0</td>\n",
       "                        <td id=\"T_30c5b22c_39a4_11ec_8b28_f0189811c772row15_col4\" class=\"data row15 col4\" >0</td>\n",
       "                        <td id=\"T_30c5b22c_39a4_11ec_8b28_f0189811c772row15_col5\" class=\"data row15 col5\" >0</td>\n",
       "            </tr>\n",
       "            <tr>\n",
       "                        <th id=\"T_30c5b22c_39a4_11ec_8b28_f0189811c772level0_row16\" class=\"row_heading level0 row16\" >https://www.msn.com/en-us/news/crime/school-safety-officer-charged-with-murder-after-fatally-shooting-18-year-old-woman/ar-AAQ3BA3</th>\n",
       "                        <td id=\"T_30c5b22c_39a4_11ec_8b28_f0189811c772row16_col0\" class=\"data row16 col0\" >0</td>\n",
       "                        <td id=\"T_30c5b22c_39a4_11ec_8b28_f0189811c772row16_col1\" class=\"data row16 col1\" >0</td>\n",
       "                        <td id=\"T_30c5b22c_39a4_11ec_8b28_f0189811c772row16_col2\" class=\"data row16 col2\" >0</td>\n",
       "                        <td id=\"T_30c5b22c_39a4_11ec_8b28_f0189811c772row16_col3\" class=\"data row16 col3\" >0</td>\n",
       "                        <td id=\"T_30c5b22c_39a4_11ec_8b28_f0189811c772row16_col4\" class=\"data row16 col4\" >0</td>\n",
       "                        <td id=\"T_30c5b22c_39a4_11ec_8b28_f0189811c772row16_col5\" class=\"data row16 col5\" >0</td>\n",
       "            </tr>\n",
       "            <tr>\n",
       "                        <th id=\"T_30c5b22c_39a4_11ec_8b28_f0189811c772level0_row17\" class=\"row_heading level0 row17\" >https://time.com/6111695/heather-mack-bali-suitcase-murder/</th>\n",
       "                        <td id=\"T_30c5b22c_39a4_11ec_8b28_f0189811c772row17_col0\" class=\"data row17 col0\" >0</td>\n",
       "                        <td id=\"T_30c5b22c_39a4_11ec_8b28_f0189811c772row17_col1\" class=\"data row17 col1\" >0</td>\n",
       "                        <td id=\"T_30c5b22c_39a4_11ec_8b28_f0189811c772row17_col2\" class=\"data row17 col2\" >0</td>\n",
       "                        <td id=\"T_30c5b22c_39a4_11ec_8b28_f0189811c772row17_col3\" class=\"data row17 col3\" >1</td>\n",
       "                        <td id=\"T_30c5b22c_39a4_11ec_8b28_f0189811c772row17_col4\" class=\"data row17 col4\" >0</td>\n",
       "                        <td id=\"T_30c5b22c_39a4_11ec_8b28_f0189811c772row17_col5\" class=\"data row17 col5\" >0</td>\n",
       "            </tr>\n",
       "            <tr>\n",
       "                        <th id=\"T_30c5b22c_39a4_11ec_8b28_f0189811c772level0_row18\" class=\"row_heading level0 row18\" >https://www.msn.com/en-us/news/us/ex-california-school-safety-officer-who-shot-18-year-old-mother-charged-with-murder/ar-AAQ1YTO</th>\n",
       "                        <td id=\"T_30c5b22c_39a4_11ec_8b28_f0189811c772row18_col0\" class=\"data row18 col0\" >0</td>\n",
       "                        <td id=\"T_30c5b22c_39a4_11ec_8b28_f0189811c772row18_col1\" class=\"data row18 col1\" >0</td>\n",
       "                        <td id=\"T_30c5b22c_39a4_11ec_8b28_f0189811c772row18_col2\" class=\"data row18 col2\" >0</td>\n",
       "                        <td id=\"T_30c5b22c_39a4_11ec_8b28_f0189811c772row18_col3\" class=\"data row18 col3\" >0</td>\n",
       "                        <td id=\"T_30c5b22c_39a4_11ec_8b28_f0189811c772row18_col4\" class=\"data row18 col4\" >0</td>\n",
       "                        <td id=\"T_30c5b22c_39a4_11ec_8b28_f0189811c772row18_col5\" class=\"data row18 col5\" >0</td>\n",
       "            </tr>\n",
       "            <tr>\n",
       "                        <th id=\"T_30c5b22c_39a4_11ec_8b28_f0189811c772level0_row19\" class=\"row_heading level0 row19\" >https://www.msn.com/en-us/news/crime/woman-apparently-angry-about-work-outside-condo-charged-with-attempted-murder-of-painters/ar-AAQ1Gca</th>\n",
       "                        <td id=\"T_30c5b22c_39a4_11ec_8b28_f0189811c772row19_col0\" class=\"data row19 col0\" >0</td>\n",
       "                        <td id=\"T_30c5b22c_39a4_11ec_8b28_f0189811c772row19_col1\" class=\"data row19 col1\" >0</td>\n",
       "                        <td id=\"T_30c5b22c_39a4_11ec_8b28_f0189811c772row19_col2\" class=\"data row19 col2\" >0</td>\n",
       "                        <td id=\"T_30c5b22c_39a4_11ec_8b28_f0189811c772row19_col3\" class=\"data row19 col3\" >0</td>\n",
       "                        <td id=\"T_30c5b22c_39a4_11ec_8b28_f0189811c772row19_col4\" class=\"data row19 col4\" >0</td>\n",
       "                        <td id=\"T_30c5b22c_39a4_11ec_8b28_f0189811c772row19_col5\" class=\"data row19 col5\" >0</td>\n",
       "            </tr>\n",
       "            <tr>\n",
       "                        <th id=\"T_30c5b22c_39a4_11ec_8b28_f0189811c772level0_row20\" class=\"row_heading level0 row20\" >https://www.chron.com/news/crime/article/Midlander-sentenced-to-99-years-in-teen-s-murder-16569789.php</th>\n",
       "                        <td id=\"T_30c5b22c_39a4_11ec_8b28_f0189811c772row20_col0\" class=\"data row20 col0\" >0</td>\n",
       "                        <td id=\"T_30c5b22c_39a4_11ec_8b28_f0189811c772row20_col1\" class=\"data row20 col1\" >0</td>\n",
       "                        <td id=\"T_30c5b22c_39a4_11ec_8b28_f0189811c772row20_col2\" class=\"data row20 col2\" >0</td>\n",
       "                        <td id=\"T_30c5b22c_39a4_11ec_8b28_f0189811c772row20_col3\" class=\"data row20 col3\" >0</td>\n",
       "                        <td id=\"T_30c5b22c_39a4_11ec_8b28_f0189811c772row20_col4\" class=\"data row20 col4\" >0</td>\n",
       "                        <td id=\"T_30c5b22c_39a4_11ec_8b28_f0189811c772row20_col5\" class=\"data row20 col5\" >0</td>\n",
       "            </tr>\n",
       "            <tr>\n",
       "                        <th id=\"T_30c5b22c_39a4_11ec_8b28_f0189811c772level0_row21\" class=\"row_heading level0 row21\" >https://www.usatoday.com/story/news/nation/2021/10/28/oklahoma-executes-john-grant-lethal-injection/6184529001/</th>\n",
       "                        <td id=\"T_30c5b22c_39a4_11ec_8b28_f0189811c772row21_col0\" class=\"data row21 col0\" >0</td>\n",
       "                        <td id=\"T_30c5b22c_39a4_11ec_8b28_f0189811c772row21_col1\" class=\"data row21 col1\" >0</td>\n",
       "                        <td id=\"T_30c5b22c_39a4_11ec_8b28_f0189811c772row21_col2\" class=\"data row21 col2\" >0</td>\n",
       "                        <td id=\"T_30c5b22c_39a4_11ec_8b28_f0189811c772row21_col3\" class=\"data row21 col3\" >0</td>\n",
       "                        <td id=\"T_30c5b22c_39a4_11ec_8b28_f0189811c772row21_col4\" class=\"data row21 col4\" >0</td>\n",
       "                        <td id=\"T_30c5b22c_39a4_11ec_8b28_f0189811c772row21_col5\" class=\"data row21 col5\" >0</td>\n",
       "            </tr>\n",
       "            <tr>\n",
       "                        <th id=\"T_30c5b22c_39a4_11ec_8b28_f0189811c772level0_row22\" class=\"row_heading level0 row22\" >https://www.mercurynews.com/2021/10/27/long-beach-school-officer-who-fatally-shot-18-year-old-woman-charged-with-murder/</th>\n",
       "                        <td id=\"T_30c5b22c_39a4_11ec_8b28_f0189811c772row22_col0\" class=\"data row22 col0\" >0</td>\n",
       "                        <td id=\"T_30c5b22c_39a4_11ec_8b28_f0189811c772row22_col1\" class=\"data row22 col1\" >0</td>\n",
       "                        <td id=\"T_30c5b22c_39a4_11ec_8b28_f0189811c772row22_col2\" class=\"data row22 col2\" >0</td>\n",
       "                        <td id=\"T_30c5b22c_39a4_11ec_8b28_f0189811c772row22_col3\" class=\"data row22 col3\" >0</td>\n",
       "                        <td id=\"T_30c5b22c_39a4_11ec_8b28_f0189811c772row22_col4\" class=\"data row22 col4\" >0</td>\n",
       "                        <td id=\"T_30c5b22c_39a4_11ec_8b28_f0189811c772row22_col5\" class=\"data row22 col5\" >0</td>\n",
       "            </tr>\n",
       "    </tbody></table>"
      ],
      "text/plain": [
       "<pandas.io.formats.style.Styler at 0x7f77f342fe80>"
      ]
     },
     "execution_count": 7,
     "metadata": {},
     "output_type": "execute_result"
    }
   ],
   "source": [
    "TMI_analysis.find_ethnicity_keywords()\n",
    "print(TMI_analysis.dataframe.info())\n"
   ]
  },
  {
   "cell_type": "markdown",
   "id": "5822d9cd-52e5-4d97-9598-7a98ba2b16bd",
   "metadata": {},
   "source": [
    "---"
   ]
  },
  {
   "cell_type": "markdown",
   "id": "8d9a27d7-560c-4ec0-a338-7416087642a0",
   "metadata": {},
   "source": [
    "### 5. Does Print Medium influence Article Length?"
   ]
  },
  {
   "cell_type": "markdown",
   "id": "214ab030-ceb3-4183-b03f-bc4323a01e8c",
   "metadata": {},
   "source": [
    "Evaluation of whether or not a newspaper length is dependent upon the print medium type. Either a newspaper outlet is online only or print & online. However, usually the print & online publish the same article both mediums. \n",
    "\n",
    "<i>Are online articles therefore always shorter for print & online newspaper due to space limitations in the print medium? </i>\n",
    "\n",
    "Unfortuantely, there is no API determining the medium type of a newspaper, so the method requires a manualy typed list of the types of newspapers in the dataframe.\n",
    "\n",
    "\n",
    "As Watson NLP sometimes classifies the loaded in articles differently, we need to load in the <b>saved dataframe</b> to make sure this analysis functions. "
   ]
  },
  {
   "cell_type": "code",
   "execution_count": 22,
   "id": "fb3a71b9-d19a-4d1d-a141-e964c712203f",
   "metadata": {},
   "outputs": [],
   "source": [
    "TMI_analysis.dataframe = pickle.load(open(\"../../data/tmi/saved_dataframe.pkl\", \"rb\"))"
   ]
  },
  {
   "cell_type": "code",
   "execution_count": 26,
   "id": "448a9a76-8164-4d39-a9a2-1dbb98754f6b",
   "metadata": {},
   "outputs": [
    {
     "data": {
      "image/png": "[encoded data removed]",
      "text/plain": [
       "<Figure size 432x288 with 1 Axes>"
      ]
     },
     "metadata": {
      "needs_background": "light"
     },
     "output_type": "display_data"
    }
   ],
   "source": [
    "import matplotlib.pyplot as plt\n",
    "newspaper_types = [\"online\", \"online\", \"online\", \"print\", \"online\", \"print\", \"online\", \"online\", \"print\", \"print\", \"print\", \"print\", \"print\", \"print\", \"online\", \"online\", \"online\", \"print\", \"online\", \"online\", \"online\", \"print\", \"print\"]\n",
    "\n",
    "x = TMI_analysis.article_length_mediatype_correlation(newspaper_types)[0]\n",
    "error = TMI_analysis.article_length_mediatype_correlation(newspaper_types)[1]\n",
    "averages = TMI_analysis.article_length_mediatype_correlation(newspaper_types)[2]\n",
    "\n",
    "plt.bar(x, averages, yerr=error, ecolor=\"black\", capsize=10)\n",
    "plt.ylabel(\"Words\")\n",
    "plt.title(\"Correlation Article Length / Print Medium\")\n",
    "plt.show()\n"
   ]
  },
  {
   "cell_type": "markdown",
   "id": "d33a1d4c-cf42-4c12-a123-2a3844d4fad7",
   "metadata": {},
   "source": [
    "---"
   ]
  },
  {
   "cell_type": "markdown",
   "id": "38d7bbc3-9744-4e6c-be39-00b7ef2b2968",
   "metadata": {},
   "source": [
    "### 6. Does Object in Headline correspond to Context?"
   ]
  },
  {
   "cell_type": "markdown",
   "id": "e290a52c-7a73-4acb-adfe-3b7c0321834e",
   "metadata": {},
   "source": [
    "Example: *\"Daycare Worker Charged With <b>Murder</b> After Assaulting Baby Who Wouldn’t Nap, Cops Say\"*\n",
    "The object (Murder) corresponds to the context (Murder).\n",
    "\n",
    "An object not corresponding with the context might be framing bias. E.g. the object is the age of the murderer or the location of the murder.\n",
    "\n",
    "In our case the context == <b>\"murder\"</b>"
   ]
  },
  {
   "cell_type": "code",
   "execution_count": 30,
   "id": "bbbef280-b8e2-4228-a88b-ad919a671a86",
   "metadata": {},
   "outputs": [
    {
     "data": {
      "text/html": [
       "<div>\n",
       "<style scoped>\n",
       "    .dataframe tbody tr th:only-of-type {\n",
       "        vertical-align: middle;\n",
       "    }\n",
       "\n",
       "    .dataframe tbody tr th {\n",
       "        vertical-align: top;\n",
       "    }\n",
       "\n",
       "    .dataframe thead th {\n",
       "        text-align: right;\n",
       "    }\n",
       "</style>\n",
       "<table border=\"1\" class=\"dataframe\">\n",
       "  <thead>\n",
       "    <tr style=\"text-align: right;\">\n",
       "      <th></th>\n",
       "      <th>headline</th>\n",
       "      <th>newsoutlet_name</th>\n",
       "      <th>article_content</th>\n",
       "      <th>headline_length</th>\n",
       "      <th>article_length</th>\n",
       "      <th>newspaper_type</th>\n",
       "      <th>HL_Subject</th>\n",
       "      <th>HL_Action</th>\n",
       "      <th>HL_Object</th>\n",
       "      <th>object_correspond_context_HL</th>\n",
       "    </tr>\n",
       "    <tr>\n",
       "      <th>URL</th>\n",
       "      <th></th>\n",
       "      <th></th>\n",
       "      <th></th>\n",
       "      <th></th>\n",
       "      <th></th>\n",
       "      <th></th>\n",
       "      <th></th>\n",
       "      <th></th>\n",
       "      <th></th>\n",
       "      <th></th>\n",
       "    </tr>\n",
       "  </thead>\n",
       "  <tbody>\n",
       "    <tr>\n",
       "      <th>https://www.msn.com/en-us/news/crime/from-humiliating-defendants-to-giving-them-wide-latitude-the-confident-judge-overseeing-kyle-rittenhouse-s-murder-trial-doesn-t-shy-from-controversy/ar-AAQ7DPH</th>\n",
       "      <td>From humiliating defendants to giving them wid...</td>\n",
       "      <td>msn</td>\n",
       "      <td>KENOSHA, Wis. — In the weeks leading up to Kyl...</td>\n",
       "      <td>151</td>\n",
       "      <td>10922</td>\n",
       "      <td>online</td>\n",
       "      <td>[the ‘confident’ judge, Kyle Rittenhouse, the ...</td>\n",
       "      <td>[overseeing, s, does]</td>\n",
       "      <td>[Kyle Rittenhouse’s murder trial doesn’t shy f...</td>\n",
       "      <td>True</td>\n",
       "    </tr>\n",
       "  </tbody>\n",
       "</table>\n",
       "</div>"
      ],
      "text/plain": [
       "                                                                                             headline  \\\n",
       "URL                                                                                                     \n",
       "https://www.msn.com/en-us/news/crime/from-humil...  From humiliating defendants to giving them wid...   \n",
       "\n",
       "                                                   newsoutlet_name  \\\n",
       "URL                                                                  \n",
       "https://www.msn.com/en-us/news/crime/from-humil...             msn   \n",
       "\n",
       "                                                                                      article_content  \\\n",
       "URL                                                                                                     \n",
       "https://www.msn.com/en-us/news/crime/from-humil...  KENOSHA, Wis. — In the weeks leading up to Kyl...   \n",
       "\n",
       "                                                    headline_length  \\\n",
       "URL                                                                   \n",
       "https://www.msn.com/en-us/news/crime/from-humil...              151   \n",
       "\n",
       "                                                    article_length  \\\n",
       "URL                                                                  \n",
       "https://www.msn.com/en-us/news/crime/from-humil...           10922   \n",
       "\n",
       "                                                   newspaper_type  \\\n",
       "URL                                                                 \n",
       "https://www.msn.com/en-us/news/crime/from-humil...         online   \n",
       "\n",
       "                                                                                           HL_Subject  \\\n",
       "URL                                                                                                     \n",
       "https://www.msn.com/en-us/news/crime/from-humil...  [the ‘confident’ judge, Kyle Rittenhouse, the ...   \n",
       "\n",
       "                                                                HL_Action  \\\n",
       "URL                                                                         \n",
       "https://www.msn.com/en-us/news/crime/from-humil...  [overseeing, s, does]   \n",
       "\n",
       "                                                                                            HL_Object  \\\n",
       "URL                                                                                                     \n",
       "https://www.msn.com/en-us/news/crime/from-humil...  [Kyle Rittenhouse’s murder trial doesn’t shy f...   \n",
       "\n",
       "                                                    object_correspond_context_HL  \n",
       "URL                                                                               \n",
       "https://www.msn.com/en-us/news/crime/from-humil...                          True  "
      ]
     },
     "execution_count": 30,
     "metadata": {},
     "output_type": "execute_result"
    }
   ],
   "source": [
    "TMI_analysis.object_correspond_context(\"murder\")\n",
    "TMI_analysis.dataframe.head(1)"
   ]
  },
  {
   "cell_type": "markdown",
   "id": "ddf59b22-2658-4fa3-8ace-f647abd6967d",
   "metadata": {},
   "source": [
    "---"
   ]
  },
  {
   "cell_type": "markdown",
   "id": "a41bd637-8cf8-447f-9e84-642d3f04e7ef",
   "metadata": {},
   "source": [
    "### 7. Is Subject an Entity of Type Person?"
   ]
  },
  {
   "cell_type": "markdown",
   "id": "d230d948-e2d0-407c-9129-1c88b2b23b2b",
   "metadata": {},
   "source": [
    "The subject not being a named person might indicate a framing bias, especially if the person is later named in the article."
   ]
  },
  {
   "cell_type": "code",
   "execution_count": 31,
   "id": "4bf4fdc3-2740-4c67-9a2c-e6d15dbf6a28",
   "metadata": {},
   "outputs": [
    {
     "name": "stderr",
     "output_type": "stream",
     "text": [
      "/Users/lucaweissbeck/Documents/VSCProjects/NLP/media-bias-t4j-4374/src/tmi/python_code/tmi_logic.py:111: SettingWithCopyWarning: \n",
      "A value is trying to be set on a copy of a slice from a DataFrame\n",
      "\n",
      "See the caveats in the documentation: https://pandas.pydata.org/pandas-docs/stable/user_guide/indexing.html#returning-a-view-versus-a-copy\n",
      "  self.dataframe.loc[i][\"entities\"] = result_dict[\"entities\"]\n"
     ]
    }
   ],
   "source": [
    "TMI_analysis.is_subject_entity_person()"
   ]
  },
  {
   "cell_type": "code",
   "execution_count": 32,
   "id": "a1fe5e7e-63f2-4a36-84de-8951b139aba8",
   "metadata": {},
   "outputs": [
    {
     "data": {
      "text/html": [
       "<div>\n",
       "<style scoped>\n",
       "    .dataframe tbody tr th:only-of-type {\n",
       "        vertical-align: middle;\n",
       "    }\n",
       "\n",
       "    .dataframe tbody tr th {\n",
       "        vertical-align: top;\n",
       "    }\n",
       "\n",
       "    .dataframe thead th {\n",
       "        text-align: right;\n",
       "    }\n",
       "</style>\n",
       "<table border=\"1\" class=\"dataframe\">\n",
       "  <thead>\n",
       "    <tr style=\"text-align: right;\">\n",
       "      <th></th>\n",
       "      <th>headline</th>\n",
       "      <th>newsoutlet_name</th>\n",
       "      <th>article_content</th>\n",
       "      <th>headline_length</th>\n",
       "      <th>article_length</th>\n",
       "      <th>newspaper_type</th>\n",
       "      <th>HL_Subject</th>\n",
       "      <th>HL_Action</th>\n",
       "      <th>HL_Object</th>\n",
       "      <th>object_correspond_context_HL</th>\n",
       "      <th>entities</th>\n",
       "      <th>entity_and_person</th>\n",
       "    </tr>\n",
       "    <tr>\n",
       "      <th>URL</th>\n",
       "      <th></th>\n",
       "      <th></th>\n",
       "      <th></th>\n",
       "      <th></th>\n",
       "      <th></th>\n",
       "      <th></th>\n",
       "      <th></th>\n",
       "      <th></th>\n",
       "      <th></th>\n",
       "      <th></th>\n",
       "      <th></th>\n",
       "      <th></th>\n",
       "    </tr>\n",
       "  </thead>\n",
       "  <tbody>\n",
       "    <tr>\n",
       "      <th>https://www.msn.com/en-us/news/crime/from-humiliating-defendants-to-giving-them-wide-latitude-the-confident-judge-overseeing-kyle-rittenhouse-s-murder-trial-doesn-t-shy-from-controversy/ar-AAQ7DPH</th>\n",
       "      <td>From humiliating defendants to giving them wid...</td>\n",
       "      <td>msn</td>\n",
       "      <td>KENOSHA, Wis. — In the weeks leading up to Kyl...</td>\n",
       "      <td>151</td>\n",
       "      <td>10922</td>\n",
       "      <td>online</td>\n",
       "      <td>[the ‘confident’ judge, Kyle Rittenhouse, the ...</td>\n",
       "      <td>[overseeing, s, does]</td>\n",
       "      <td>[Kyle Rittenhouse’s murder trial doesn’t shy f...</td>\n",
       "      <td>True</td>\n",
       "      <td></td>\n",
       "      <td>False</td>\n",
       "    </tr>\n",
       "  </tbody>\n",
       "</table>\n",
       "</div>"
      ],
      "text/plain": [
       "                                                                                             headline  \\\n",
       "URL                                                                                                     \n",
       "https://www.msn.com/en-us/news/crime/from-humil...  From humiliating defendants to giving them wid...   \n",
       "\n",
       "                                                   newsoutlet_name  \\\n",
       "URL                                                                  \n",
       "https://www.msn.com/en-us/news/crime/from-humil...             msn   \n",
       "\n",
       "                                                                                      article_content  \\\n",
       "URL                                                                                                     \n",
       "https://www.msn.com/en-us/news/crime/from-humil...  KENOSHA, Wis. — In the weeks leading up to Kyl...   \n",
       "\n",
       "                                                    headline_length  \\\n",
       "URL                                                                   \n",
       "https://www.msn.com/en-us/news/crime/from-humil...              151   \n",
       "\n",
       "                                                    article_length  \\\n",
       "URL                                                                  \n",
       "https://www.msn.com/en-us/news/crime/from-humil...           10922   \n",
       "\n",
       "                                                   newspaper_type  \\\n",
       "URL                                                                 \n",
       "https://www.msn.com/en-us/news/crime/from-humil...         online   \n",
       "\n",
       "                                                                                           HL_Subject  \\\n",
       "URL                                                                                                     \n",
       "https://www.msn.com/en-us/news/crime/from-humil...  [the ‘confident’ judge, Kyle Rittenhouse, the ...   \n",
       "\n",
       "                                                                HL_Action  \\\n",
       "URL                                                                         \n",
       "https://www.msn.com/en-us/news/crime/from-humil...  [overseeing, s, does]   \n",
       "\n",
       "                                                                                            HL_Object  \\\n",
       "URL                                                                                                     \n",
       "https://www.msn.com/en-us/news/crime/from-humil...  [Kyle Rittenhouse’s murder trial doesn’t shy f...   \n",
       "\n",
       "                                                    object_correspond_context_HL  \\\n",
       "URL                                                                                \n",
       "https://www.msn.com/en-us/news/crime/from-humil...                          True   \n",
       "\n",
       "                                                   entities  entity_and_person  \n",
       "URL                                                                             \n",
       "https://www.msn.com/en-us/news/crime/from-humil...                       False  "
      ]
     },
     "execution_count": 32,
     "metadata": {},
     "output_type": "execute_result"
    }
   ],
   "source": [
    "TMI_analysis.dataframe.head(1)"
   ]
  },
  {
   "cell_type": "markdown",
   "id": "8ba58b9a-89f4-4832-abbb-b8da83fa8298",
   "metadata": {},
   "source": [
    "---"
   ]
  },
  {
   "cell_type": "markdown",
   "id": "9aa21813-ed8d-4467-ace3-9b1c736fea20",
   "metadata": {},
   "source": [
    "### 8. Political Spectrum of News Outlet"
   ]
  },
  {
   "cell_type": "markdown",
   "id": "a9a17ff2-08f2-4e18-a813-8868d4bc3d22",
   "metadata": {},
   "source": [
    "Using a web crawler to acquire the political leaning of a newspaper. Data is provided by the website:\n",
    "https://www.allsides.com/media-bias/media-bias-ratings\n",
    "\n",
    "Output:\n",
    "- Left\n",
    "- Lean Left\n",
    "- Center\n",
    "- Lean Right\n",
    "- Right"
   ]
  },
  {
   "cell_type": "code",
   "execution_count": 34,
   "id": "c545f41c-c1d9-41bd-b711-a5a23f103272",
   "metadata": {},
   "outputs": [],
   "source": [
    "TMI_analysis.political_spectrum()"
   ]
  },
  {
   "cell_type": "code",
   "execution_count": 35,
   "id": "e27a80c2-0cda-43b7-9c72-3d281c253725",
   "metadata": {},
   "outputs": [
    {
     "data": {
      "text/html": [
       "<div>\n",
       "<style scoped>\n",
       "    .dataframe tbody tr th:only-of-type {\n",
       "        vertical-align: middle;\n",
       "    }\n",
       "\n",
       "    .dataframe tbody tr th {\n",
       "        vertical-align: top;\n",
       "    }\n",
       "\n",
       "    .dataframe thead th {\n",
       "        text-align: right;\n",
       "    }\n",
       "</style>\n",
       "<table border=\"1\" class=\"dataframe\">\n",
       "  <thead>\n",
       "    <tr style=\"text-align: right;\">\n",
       "      <th></th>\n",
       "      <th>headline</th>\n",
       "      <th>newsoutlet_name</th>\n",
       "      <th>article_content</th>\n",
       "      <th>headline_length</th>\n",
       "      <th>article_length</th>\n",
       "      <th>newspaper_type</th>\n",
       "      <th>HL_Subject</th>\n",
       "      <th>HL_Action</th>\n",
       "      <th>HL_Object</th>\n",
       "      <th>object_correspond_context_HL</th>\n",
       "      <th>entities</th>\n",
       "      <th>entity_and_person</th>\n",
       "      <th>political_spectrum</th>\n",
       "    </tr>\n",
       "    <tr>\n",
       "      <th>URL</th>\n",
       "      <th></th>\n",
       "      <th></th>\n",
       "      <th></th>\n",
       "      <th></th>\n",
       "      <th></th>\n",
       "      <th></th>\n",
       "      <th></th>\n",
       "      <th></th>\n",
       "      <th></th>\n",
       "      <th></th>\n",
       "      <th></th>\n",
       "      <th></th>\n",
       "      <th></th>\n",
       "    </tr>\n",
       "  </thead>\n",
       "  <tbody>\n",
       "    <tr>\n",
       "      <th>https://www.msn.com/en-us/news/crime/from-humiliating-defendants-to-giving-them-wide-latitude-the-confident-judge-overseeing-kyle-rittenhouse-s-murder-trial-doesn-t-shy-from-controversy/ar-AAQ7DPH</th>\n",
       "      <td>From humiliating defendants to giving them wid...</td>\n",
       "      <td>msn</td>\n",
       "      <td>KENOSHA, Wis. — In the weeks leading up to Kyl...</td>\n",
       "      <td>151</td>\n",
       "      <td>10922</td>\n",
       "      <td>online</td>\n",
       "      <td>[the ‘confident’ judge, Kyle Rittenhouse, the ...</td>\n",
       "      <td>[overseeing, s, does]</td>\n",
       "      <td>[Kyle Rittenhouse’s murder trial doesn’t shy f...</td>\n",
       "      <td>True</td>\n",
       "      <td></td>\n",
       "      <td>False</td>\n",
       "      <td>Left</td>\n",
       "    </tr>\n",
       "  </tbody>\n",
       "</table>\n",
       "</div>"
      ],
      "text/plain": [
       "                                                                                             headline  \\\n",
       "URL                                                                                                     \n",
       "https://www.msn.com/en-us/news/crime/from-humil...  From humiliating defendants to giving them wid...   \n",
       "\n",
       "                                                   newsoutlet_name  \\\n",
       "URL                                                                  \n",
       "https://www.msn.com/en-us/news/crime/from-humil...             msn   \n",
       "\n",
       "                                                                                      article_content  \\\n",
       "URL                                                                                                     \n",
       "https://www.msn.com/en-us/news/crime/from-humil...  KENOSHA, Wis. — In the weeks leading up to Kyl...   \n",
       "\n",
       "                                                    headline_length  \\\n",
       "URL                                                                   \n",
       "https://www.msn.com/en-us/news/crime/from-humil...              151   \n",
       "\n",
       "                                                    article_length  \\\n",
       "URL                                                                  \n",
       "https://www.msn.com/en-us/news/crime/from-humil...           10922   \n",
       "\n",
       "                                                   newspaper_type  \\\n",
       "URL                                                                 \n",
       "https://www.msn.com/en-us/news/crime/from-humil...         online   \n",
       "\n",
       "                                                                                           HL_Subject  \\\n",
       "URL                                                                                                     \n",
       "https://www.msn.com/en-us/news/crime/from-humil...  [the ‘confident’ judge, Kyle Rittenhouse, the ...   \n",
       "\n",
       "                                                                HL_Action  \\\n",
       "URL                                                                         \n",
       "https://www.msn.com/en-us/news/crime/from-humil...  [overseeing, s, does]   \n",
       "\n",
       "                                                                                            HL_Object  \\\n",
       "URL                                                                                                     \n",
       "https://www.msn.com/en-us/news/crime/from-humil...  [Kyle Rittenhouse’s murder trial doesn’t shy f...   \n",
       "\n",
       "                                                    object_correspond_context_HL  \\\n",
       "URL                                                                                \n",
       "https://www.msn.com/en-us/news/crime/from-humil...                          True   \n",
       "\n",
       "                                                   entities  \\\n",
       "URL                                                           \n",
       "https://www.msn.com/en-us/news/crime/from-humil...            \n",
       "\n",
       "                                                    entity_and_person  \\\n",
       "URL                                                                     \n",
       "https://www.msn.com/en-us/news/crime/from-humil...              False   \n",
       "\n",
       "                                                   political_spectrum  \n",
       "URL                                                                    \n",
       "https://www.msn.com/en-us/news/crime/from-humil...               Left  "
      ]
     },
     "execution_count": 35,
     "metadata": {},
     "output_type": "execute_result"
    }
   ],
   "source": [
    "TMI_analysis.dataframe.head(1)"
   ]
  },
  {
   "cell_type": "markdown",
   "id": "adfc2d4a-3985-40ba-8995-d9f8b85bb1e1",
   "metadata": {},
   "source": [
    "---"
   ]
  },
  {
   "cell_type": "markdown",
   "id": "56af3baf-c3a3-4617-b999-1a6111449c90",
   "metadata": {},
   "source": [
    "### 9. Subjectivity in Headline"
   ]
  },
  {
   "cell_type": "markdown",
   "id": "e868da33-a000-43d2-8b68-47b60e7131a0",
   "metadata": {},
   "source": [
    "Measure how subjective the words in headline are. 0 == fact, 1 == opinion."
   ]
  },
  {
   "cell_type": "code",
   "execution_count": 36,
   "id": "f7178105-abb6-4154-9014-52d116497920",
   "metadata": {},
   "outputs": [],
   "source": [
    "from textblob import TextBlob\n",
    "sub = lambda x: TextBlob(x).sentiment.subjectivity\n",
    "TMI_analysis.dataframe['subjectivity_HL'] = round(TMI_analysis.dataframe['headline'].apply(sub), 2)"
   ]
  },
  {
   "cell_type": "code",
   "execution_count": 37,
   "id": "10913864-7711-4c1b-9829-95682c18823a",
   "metadata": {},
   "outputs": [
    {
     "data": {
      "text/html": [
       "<div>\n",
       "<style scoped>\n",
       "    .dataframe tbody tr th:only-of-type {\n",
       "        vertical-align: middle;\n",
       "    }\n",
       "\n",
       "    .dataframe tbody tr th {\n",
       "        vertical-align: top;\n",
       "    }\n",
       "\n",
       "    .dataframe thead th {\n",
       "        text-align: right;\n",
       "    }\n",
       "</style>\n",
       "<table border=\"1\" class=\"dataframe\">\n",
       "  <thead>\n",
       "    <tr style=\"text-align: right;\">\n",
       "      <th></th>\n",
       "      <th>headline</th>\n",
       "      <th>newsoutlet_name</th>\n",
       "      <th>article_content</th>\n",
       "      <th>headline_length</th>\n",
       "      <th>article_length</th>\n",
       "      <th>newspaper_type</th>\n",
       "      <th>HL_Subject</th>\n",
       "      <th>HL_Action</th>\n",
       "      <th>HL_Object</th>\n",
       "      <th>object_correspond_context_HL</th>\n",
       "      <th>entities</th>\n",
       "      <th>entity_and_person</th>\n",
       "      <th>political_spectrum</th>\n",
       "      <th>subjectivity_HL</th>\n",
       "    </tr>\n",
       "    <tr>\n",
       "      <th>URL</th>\n",
       "      <th></th>\n",
       "      <th></th>\n",
       "      <th></th>\n",
       "      <th></th>\n",
       "      <th></th>\n",
       "      <th></th>\n",
       "      <th></th>\n",
       "      <th></th>\n",
       "      <th></th>\n",
       "      <th></th>\n",
       "      <th></th>\n",
       "      <th></th>\n",
       "      <th></th>\n",
       "      <th></th>\n",
       "    </tr>\n",
       "  </thead>\n",
       "  <tbody>\n",
       "    <tr>\n",
       "      <th>https://www.msn.com/en-us/news/crime/from-humiliating-defendants-to-giving-them-wide-latitude-the-confident-judge-overseeing-kyle-rittenhouse-s-murder-trial-doesn-t-shy-from-controversy/ar-AAQ7DPH</th>\n",
       "      <td>From humiliating defendants to giving them wid...</td>\n",
       "      <td>msn</td>\n",
       "      <td>KENOSHA, Wis. — In the weeks leading up to Kyl...</td>\n",
       "      <td>151</td>\n",
       "      <td>10922</td>\n",
       "      <td>online</td>\n",
       "      <td>[the ‘confident’ judge, Kyle Rittenhouse, the ...</td>\n",
       "      <td>[overseeing, s, does]</td>\n",
       "      <td>[Kyle Rittenhouse’s murder trial doesn’t shy f...</td>\n",
       "      <td>True</td>\n",
       "      <td></td>\n",
       "      <td>False</td>\n",
       "      <td>Left</td>\n",
       "      <td>0.58</td>\n",
       "    </tr>\n",
       "  </tbody>\n",
       "</table>\n",
       "</div>"
      ],
      "text/plain": [
       "                                                                                             headline  \\\n",
       "URL                                                                                                     \n",
       "https://www.msn.com/en-us/news/crime/from-humil...  From humiliating defendants to giving them wid...   \n",
       "\n",
       "                                                   newsoutlet_name  \\\n",
       "URL                                                                  \n",
       "https://www.msn.com/en-us/news/crime/from-humil...             msn   \n",
       "\n",
       "                                                                                      article_content  \\\n",
       "URL                                                                                                     \n",
       "https://www.msn.com/en-us/news/crime/from-humil...  KENOSHA, Wis. — In the weeks leading up to Kyl...   \n",
       "\n",
       "                                                    headline_length  \\\n",
       "URL                                                                   \n",
       "https://www.msn.com/en-us/news/crime/from-humil...              151   \n",
       "\n",
       "                                                    article_length  \\\n",
       "URL                                                                  \n",
       "https://www.msn.com/en-us/news/crime/from-humil...           10922   \n",
       "\n",
       "                                                   newspaper_type  \\\n",
       "URL                                                                 \n",
       "https://www.msn.com/en-us/news/crime/from-humil...         online   \n",
       "\n",
       "                                                                                           HL_Subject  \\\n",
       "URL                                                                                                     \n",
       "https://www.msn.com/en-us/news/crime/from-humil...  [the ‘confident’ judge, Kyle Rittenhouse, the ...   \n",
       "\n",
       "                                                                HL_Action  \\\n",
       "URL                                                                         \n",
       "https://www.msn.com/en-us/news/crime/from-humil...  [overseeing, s, does]   \n",
       "\n",
       "                                                                                            HL_Object  \\\n",
       "URL                                                                                                     \n",
       "https://www.msn.com/en-us/news/crime/from-humil...  [Kyle Rittenhouse’s murder trial doesn’t shy f...   \n",
       "\n",
       "                                                    object_correspond_context_HL  \\\n",
       "URL                                                                                \n",
       "https://www.msn.com/en-us/news/crime/from-humil...                          True   \n",
       "\n",
       "                                                   entities  \\\n",
       "URL                                                           \n",
       "https://www.msn.com/en-us/news/crime/from-humil...            \n",
       "\n",
       "                                                    entity_and_person  \\\n",
       "URL                                                                     \n",
       "https://www.msn.com/en-us/news/crime/from-humil...              False   \n",
       "\n",
       "                                                   political_spectrum  \\\n",
       "URL                                                                     \n",
       "https://www.msn.com/en-us/news/crime/from-humil...               Left   \n",
       "\n",
       "                                                    subjectivity_HL  \n",
       "URL                                                                  \n",
       "https://www.msn.com/en-us/news/crime/from-humil...             0.58  "
      ]
     },
     "execution_count": 37,
     "metadata": {},
     "output_type": "execute_result"
    }
   ],
   "source": [
    "TMI_analysis.dataframe.head(1)"
   ]
  },
  {
   "cell_type": "markdown",
   "id": "515c322b-093c-4d8b-85ed-9dd4b8d9617a",
   "metadata": {},
   "source": [
    "---"
   ]
  },
  {
   "cell_type": "markdown",
   "id": "663ca9ef-95f6-4be6-8807-74bf9d8bc183",
   "metadata": {},
   "source": [
    "### 10. Relationship Political Leaning & Subjectivity Headline"
   ]
  },
  {
   "cell_type": "markdown",
   "id": "9be42386-943a-492a-8ad2-ad2e5843978d",
   "metadata": {},
   "source": [
    "Is there a relationship between how subjective the word choice in the headline is to the political leaning of the newspaper outlet?"
   ]
  },
  {
   "cell_type": "code",
   "execution_count": 38,
   "id": "804f7472-d05c-4361-a088-6326676dfe01",
   "metadata": {},
   "outputs": [
    {
     "data": {
      "image/png": "[encoded data removed]",
      "text/plain": [
       "<Figure size 432x288 with 1 Axes>"
      ]
     },
     "metadata": {
      "needs_background": "light"
     },
     "output_type": "display_data"
    }
   ],
   "source": [
    "import matplotlib.pyplot as plt\n",
    "\n",
    "TMI_analysis.dataframe[\"political_spectrum\"] = TMI_analysis.dataframe[\"political_spectrum\"].fillna(value=\"No Info\")\n",
    "x = TMI_analysis.dataframe[\"political_spectrum\"][TMI_analysis.dataframe[\"political_spectrum\"] != \"No Info\"]\n",
    "y = TMI_analysis.dataframe[\"subjectivity_HL\"][TMI_analysis.dataframe[\"political_spectrum\"] != \"No Info\"]\n",
    "plt.scatter(x, y)\n",
    "plt.title(\"Relationship Political Standpoint & Subjectivity\")\n",
    "plt.ylabel(\"<---- Factive             Subjective ---->\")\n",
    "plt.show()"
   ]
  },
  {
   "cell_type": "markdown",
   "id": "4e3419f9-1c9a-46aa-a84e-6dddd5700cd1",
   "metadata": {},
   "source": [
    "---"
   ]
  },
  {
   "cell_type": "markdown",
   "id": "ea91e31e-f3e6-4e23-99d0-2674f16d6eac",
   "metadata": {},
   "source": [
    "### 11. Count Hedges, Boosters & Factive Verbs"
   ]
  },
  {
   "cell_type": "markdown",
   "id": "c2cdccfe-ee95-484c-b0de-497e60d99b05",
   "metadata": {},
   "source": [
    "Count the occurences of hedges, boosters and factive verbs in the article text.\n",
    "We are using the collections of words Ayobami created in preliminary experiment 4. "
   ]
  },
  {
   "cell_type": "code",
   "execution_count": 40,
   "id": "16212e32-5864-46a3-94ec-1efd8adc84d4",
   "metadata": {},
   "outputs": [],
   "source": [
    "TMI_analysis.hedges_booster_factiveverbs()"
   ]
  },
  {
   "cell_type": "code",
   "execution_count": 41,
   "id": "c5280f04-107d-4705-bd15-9e24a8a84fe6",
   "metadata": {},
   "outputs": [
    {
     "data": {
      "text/html": [
       "<div>\n",
       "<style scoped>\n",
       "    .dataframe tbody tr th:only-of-type {\n",
       "        vertical-align: middle;\n",
       "    }\n",
       "\n",
       "    .dataframe tbody tr th {\n",
       "        vertical-align: top;\n",
       "    }\n",
       "\n",
       "    .dataframe thead th {\n",
       "        text-align: right;\n",
       "    }\n",
       "</style>\n",
       "<table border=\"1\" class=\"dataframe\">\n",
       "  <thead>\n",
       "    <tr style=\"text-align: right;\">\n",
       "      <th></th>\n",
       "      <th>headline</th>\n",
       "      <th>newsoutlet_name</th>\n",
       "      <th>article_content</th>\n",
       "      <th>headline_length</th>\n",
       "      <th>article_length</th>\n",
       "      <th>newspaper_type</th>\n",
       "      <th>HL_Subject</th>\n",
       "      <th>HL_Action</th>\n",
       "      <th>HL_Object</th>\n",
       "      <th>object_correspond_context_HL</th>\n",
       "      <th>entities</th>\n",
       "      <th>entity_and_person</th>\n",
       "      <th>political_spectrum</th>\n",
       "      <th>subjectivity_HL</th>\n",
       "      <th>boosters_count</th>\n",
       "      <th>hedges_count</th>\n",
       "      <th>factive_verbs_count</th>\n",
       "      <th>bias_lexicon_count</th>\n",
       "    </tr>\n",
       "    <tr>\n",
       "      <th>URL</th>\n",
       "      <th></th>\n",
       "      <th></th>\n",
       "      <th></th>\n",
       "      <th></th>\n",
       "      <th></th>\n",
       "      <th></th>\n",
       "      <th></th>\n",
       "      <th></th>\n",
       "      <th></th>\n",
       "      <th></th>\n",
       "      <th></th>\n",
       "      <th></th>\n",
       "      <th></th>\n",
       "      <th></th>\n",
       "      <th></th>\n",
       "      <th></th>\n",
       "      <th></th>\n",
       "      <th></th>\n",
       "    </tr>\n",
       "  </thead>\n",
       "  <tbody>\n",
       "    <tr>\n",
       "      <th>https://www.msn.com/en-us/news/crime/from-humiliating-defendants-to-giving-them-wide-latitude-the-confident-judge-overseeing-kyle-rittenhouse-s-murder-trial-doesn-t-shy-from-controversy/ar-AAQ7DPH</th>\n",
       "      <td>From humiliating defendants to giving them wid...</td>\n",
       "      <td>msn</td>\n",
       "      <td>KENOSHA, Wis. — In the weeks leading up to Kyl...</td>\n",
       "      <td>151</td>\n",
       "      <td>10922</td>\n",
       "      <td>online</td>\n",
       "      <td>[the ‘confident’ judge, Kyle Rittenhouse, the ...</td>\n",
       "      <td>[overseeing, s, does]</td>\n",
       "      <td>[Kyle Rittenhouse’s murder trial doesn’t shy f...</td>\n",
       "      <td>True</td>\n",
       "      <td></td>\n",
       "      <td>False</td>\n",
       "      <td>Left</td>\n",
       "      <td>0.58</td>\n",
       "      <td>8</td>\n",
       "      <td>14</td>\n",
       "      <td>10</td>\n",
       "      <td>140</td>\n",
       "    </tr>\n",
       "  </tbody>\n",
       "</table>\n",
       "</div>"
      ],
      "text/plain": [
       "                                                                                             headline  \\\n",
       "URL                                                                                                     \n",
       "https://www.msn.com/en-us/news/crime/from-humil...  From humiliating defendants to giving them wid...   \n",
       "\n",
       "                                                   newsoutlet_name  \\\n",
       "URL                                                                  \n",
       "https://www.msn.com/en-us/news/crime/from-humil...             msn   \n",
       "\n",
       "                                                                                      article_content  \\\n",
       "URL                                                                                                     \n",
       "https://www.msn.com/en-us/news/crime/from-humil...  KENOSHA, Wis. — In the weeks leading up to Kyl...   \n",
       "\n",
       "                                                    headline_length  \\\n",
       "URL                                                                   \n",
       "https://www.msn.com/en-us/news/crime/from-humil...              151   \n",
       "\n",
       "                                                    article_length  \\\n",
       "URL                                                                  \n",
       "https://www.msn.com/en-us/news/crime/from-humil...           10922   \n",
       "\n",
       "                                                   newspaper_type  \\\n",
       "URL                                                                 \n",
       "https://www.msn.com/en-us/news/crime/from-humil...         online   \n",
       "\n",
       "                                                                                           HL_Subject  \\\n",
       "URL                                                                                                     \n",
       "https://www.msn.com/en-us/news/crime/from-humil...  [the ‘confident’ judge, Kyle Rittenhouse, the ...   \n",
       "\n",
       "                                                                HL_Action  \\\n",
       "URL                                                                         \n",
       "https://www.msn.com/en-us/news/crime/from-humil...  [overseeing, s, does]   \n",
       "\n",
       "                                                                                            HL_Object  \\\n",
       "URL                                                                                                     \n",
       "https://www.msn.com/en-us/news/crime/from-humil...  [Kyle Rittenhouse’s murder trial doesn’t shy f...   \n",
       "\n",
       "                                                    object_correspond_context_HL  \\\n",
       "URL                                                                                \n",
       "https://www.msn.com/en-us/news/crime/from-humil...                          True   \n",
       "\n",
       "                                                   entities  \\\n",
       "URL                                                           \n",
       "https://www.msn.com/en-us/news/crime/from-humil...            \n",
       "\n",
       "                                                    entity_and_person  \\\n",
       "URL                                                                     \n",
       "https://www.msn.com/en-us/news/crime/from-humil...              False   \n",
       "\n",
       "                                                   political_spectrum  \\\n",
       "URL                                                                     \n",
       "https://www.msn.com/en-us/news/crime/from-humil...               Left   \n",
       "\n",
       "                                                    subjectivity_HL  \\\n",
       "URL                                                                   \n",
       "https://www.msn.com/en-us/news/crime/from-humil...             0.58   \n",
       "\n",
       "                                                    boosters_count  \\\n",
       "URL                                                                  \n",
       "https://www.msn.com/en-us/news/crime/from-humil...               8   \n",
       "\n",
       "                                                    hedges_count  \\\n",
       "URL                                                                \n",
       "https://www.msn.com/en-us/news/crime/from-humil...            14   \n",
       "\n",
       "                                                    factive_verbs_count  \\\n",
       "URL                                                                       \n",
       "https://www.msn.com/en-us/news/crime/from-humil...                   10   \n",
       "\n",
       "                                                    bias_lexicon_count  \n",
       "URL                                                                     \n",
       "https://www.msn.com/en-us/news/crime/from-humil...                 140  "
      ]
     },
     "execution_count": 41,
     "metadata": {},
     "output_type": "execute_result"
    }
   ],
   "source": [
    "TMI_analysis.dataframe.head(1)"
   ]
  },
  {
   "cell_type": "markdown",
   "id": "d3ab4c31-081d-4af4-8f22-9b38ea368834",
   "metadata": {},
   "source": [
    "---"
   ]
  },
  {
   "cell_type": "markdown",
   "id": "e9e8beee-917a-4c4b-b6b7-8c8c7f8c7ae8",
   "metadata": {},
   "source": [
    "### 12. Retrieve Article Image Subheading, Byline & Excerpt"
   ]
  },
  {
   "cell_type": "markdown",
   "id": "2cd84cb4-b59f-4682-bc5e-40cb8bb472ed",
   "metadata": {},
   "source": [
    "In this step we are collecting the subheading from the image displayed in the article. (If there is one). To do so, we are utilising FireFox's npm package called <b>\"readibility\"</b>, which filters the article of any advertisments and also offers the byline & excerpt of the article. \n",
    "\n",
    "<b>Important:</b> Make sure that the NodeJS API is started locally."
   ]
  },
  {
   "cell_type": "code",
   "execution_count": 5,
   "id": "370ce3e5-b301-4ed4-831c-5774aa13cd91",
   "metadata": {},
   "outputs": [],
   "source": [
    "TMI_analysis.get_img_caption_byline_excerpt()"
   ]
  },
  {
   "cell_type": "code",
   "execution_count": 15,
   "id": "9e32450f-24d2-4554-b528-046098cb3b26",
   "metadata": {},
   "outputs": [
    {
     "data": {
      "text/plain": [
       "['Heather Mack listens to the judge during her verdict hearing in a courtroom on April 21, 2015 in Denpasar, Bali, Indonesia. Mack was released from prison in Indonesia on Friday and will be deported to the United States, her country of origin.']"
      ]
     },
     "execution_count": 15,
     "metadata": {},
     "output_type": "execute_result"
    }
   ],
   "source": [
    "TMI_analysis.dataframe.loc[\"https://www.msn.com/en-us/news/crime/woman-in-bali-suitcase-murder-to-be-deported-to-us-without-her-daughter/ar-AAQ5G2V\"][\"image_captions\"]"
   ]
  },
  {
   "cell_type": "markdown",
   "id": "e46c6ba3-52f9-4b54-bfae-b1312917c0d7",
   "metadata": {},
   "source": [
    "---"
   ]
  },
  {
   "cell_type": "markdown",
   "id": "d6505fd1-ced6-434b-bd8c-2c3d374513ea",
   "metadata": {},
   "source": [
    "### 13. Descriptor Count in Headline & Descriptor Sentiment"
   ]
  },
  {
   "cell_type": "markdown",
   "id": "613aba28-70b0-4b77-be7c-3a63a9a64972",
   "metadata": {},
   "source": [
    "How many descriptors are used in the headline? The logic to determine the count is, to check whether any existing \"NP\" node has two or more sub nodes one of which is a \"NN\" node other than the extreme left. \n",
    "\n",
    "Possible pattern for identifying bias:\n",
    "\n",
    "< 2 descriptors (Not Biased / Positive descriptor sentiment)\n",
    "\n",
    "= 2 descirptors (Not Biased / Neutral descriptor sentiment)\n",
    "\n",
    "&gt; 2 descriptors (Biased / Negative descriptor sentiment)\n",
    "\n",
    "<b>Important:</b> Make sure to start the CoreNLP Java server locally, which is available at: \n",
    "https://stanfordnlp.github.io/CoreNLP/history.html (Tested for version 4.2.2)\n",
    "\n",
    "\n",
    "Start the server with the command: \n",
    "\n",
    "\n",
    "`java -mx4g -cp \"*\" edu.stanford.nlp.pipeline.StanfordCoreNLPServer \\\n",
    "-preload tokenize,ssplit,pos,lemma,ner,parse,depparse \\\n",
    "-status_port 9000 -port 9000 -timeout 15000 &`\n",
    "\n"
   ]
  },
  {
   "cell_type": "code",
   "execution_count": 16,
   "id": "2f0a6d82-d89f-4a29-b74b-08bd6e114033",
   "metadata": {},
   "outputs": [],
   "source": [
    "TMI_analysis.descriptors_headline()"
   ]
  },
  {
   "cell_type": "markdown",
   "id": "5c0c63de-b8ce-4fce-bc73-5a4e736dc325",
   "metadata": {},
   "source": [
    "---"
   ]
  },
  {
   "cell_type": "markdown",
   "id": "2d47937d-29fa-467a-b36f-ad0504f92f8f",
   "metadata": {},
   "source": [
    "### 14. Determine Bias from Descriptor Count"
   ]
  },
  {
   "cell_type": "markdown",
   "id": "46ff5e00-1f80-45e9-84a4-13c56c2d148f",
   "metadata": {},
   "source": [
    "Any headline containing more than 2 descriptors is labeled as \"Negatively Biased\", otherwise as \"Not Biased\""
   ]
  },
  {
   "cell_type": "code",
   "execution_count": 19,
   "id": "034128e1-283e-4df6-837a-01a63a4d5dff",
   "metadata": {},
   "outputs": [],
   "source": [
    "TMI_analysis.is_biased_from_descriptor()"
   ]
  },
  {
   "cell_type": "markdown",
   "id": "c0b1aa93-a3c1-4c6a-abba-044e841eb221",
   "metadata": {},
   "source": [
    "However, we also need to account for headlines containing more than 2 descriptors, which might be positively biased. They are still biased, as they are using more than 2 descriptors, however in a positive context. The author might simply be talking about a <b>positive</b> subject in a biased way.\n",
    "\n",
    "To distinguish these cases, a <b>CoreNLP sentiment analysis</b> is performed on any sentence containing more than 2 descriptors."
   ]
  },
  {
   "cell_type": "code",
   "execution_count": 20,
   "id": "a4653350-3e83-467a-ba3c-e637b240b802",
   "metadata": {},
   "outputs": [
    {
     "name": "stderr",
     "output_type": "stream",
     "text": [
      "/Users/lucaweissbeck/Documents/VSCProjects/NLP/media-bias-t4j-4374/src/tmi/python_code/tmi_logic.py:458: SettingWithCopyWarning: \n",
      "A value is trying to be set on a copy of a slice from a DataFrame\n",
      "\n",
      "See the caveats in the documentation: https://pandas.pydata.org/pandas-docs/stable/user_guide/indexing.html#returning-a-view-versus-a-copy\n",
      "  \"Negative\"] = self.dataframe[\"headline\"][self.dataframe[\"descriptor_class\"] == \"Negative\"].apply(is_postively_biased)\n"
     ]
    }
   ],
   "source": [
    "TMI_analysis.account_for_positively_biased()"
   ]
  },
  {
   "cell_type": "code",
   "execution_count": 21,
   "id": "a892289e-92c5-4769-b108-110631c2d09b",
   "metadata": {},
   "outputs": [
    {
     "data": {
      "text/html": [
       "<div>\n",
       "<style scoped>\n",
       "    .dataframe tbody tr th:only-of-type {\n",
       "        vertical-align: middle;\n",
       "    }\n",
       "\n",
       "    .dataframe tbody tr th {\n",
       "        vertical-align: top;\n",
       "    }\n",
       "\n",
       "    .dataframe thead th {\n",
       "        text-align: right;\n",
       "    }\n",
       "</style>\n",
       "<table border=\"1\" class=\"dataframe\">\n",
       "  <thead>\n",
       "    <tr style=\"text-align: right;\">\n",
       "      <th></th>\n",
       "      <th>headline</th>\n",
       "      <th>newsoutlet_name</th>\n",
       "      <th>article_content</th>\n",
       "      <th>image_captions</th>\n",
       "      <th>byline</th>\n",
       "      <th>excerpts</th>\n",
       "      <th>descriptor_count</th>\n",
       "      <th>descriptor_name</th>\n",
       "      <th>descriptor_sentiment</th>\n",
       "      <th>descriptor_class</th>\n",
       "      <th>headline_sentiment</th>\n",
       "    </tr>\n",
       "    <tr>\n",
       "      <th>URL</th>\n",
       "      <th></th>\n",
       "      <th></th>\n",
       "      <th></th>\n",
       "      <th></th>\n",
       "      <th></th>\n",
       "      <th></th>\n",
       "      <th></th>\n",
       "      <th></th>\n",
       "      <th></th>\n",
       "      <th></th>\n",
       "      <th></th>\n",
       "    </tr>\n",
       "  </thead>\n",
       "  <tbody>\n",
       "    <tr>\n",
       "      <th>https://www.msn.com/en-us/news/crime/from-humiliating-defendants-to-giving-them-wide-latitude-the-confident-judge-overseeing-kyle-rittenhouse-s-murder-trial-doesn-t-shy-from-controversy/ar-AAQ7DPH</th>\n",
       "      <td>From humiliating defendants to giving them wid...</td>\n",
       "      <td>msn</td>\n",
       "      <td>KENOSHA, Wis. — In the weeks leading up to Kyl...</td>\n",
       "      <td>[Kyle Rittenhouse has been charged with fatall...</td>\n",
       "      <td>\\r\\n                Stacy St. Clair, Chicago T...</td>\n",
       "      <td>KENOSHA, Wis. \\\\\\ In the weeks leading up to K...</td>\n",
       "      <td>3</td>\n",
       "      <td>[wide, confident, Kyle Rittenhouses murder]</td>\n",
       "      <td>Negative</td>\n",
       "      <td>Negatively Biased</td>\n",
       "      <td>Negative</td>\n",
       "    </tr>\n",
       "  </tbody>\n",
       "</table>\n",
       "</div>"
      ],
      "text/plain": [
       "                                                                                             headline  \\\n",
       "URL                                                                                                     \n",
       "https://www.msn.com/en-us/news/crime/from-humil...  From humiliating defendants to giving them wid...   \n",
       "\n",
       "                                                   newsoutlet_name  \\\n",
       "URL                                                                  \n",
       "https://www.msn.com/en-us/news/crime/from-humil...             msn   \n",
       "\n",
       "                                                                                      article_content  \\\n",
       "URL                                                                                                     \n",
       "https://www.msn.com/en-us/news/crime/from-humil...  KENOSHA, Wis. — In the weeks leading up to Kyl...   \n",
       "\n",
       "                                                                                       image_captions  \\\n",
       "URL                                                                                                     \n",
       "https://www.msn.com/en-us/news/crime/from-humil...  [Kyle Rittenhouse has been charged with fatall...   \n",
       "\n",
       "                                                                                               byline  \\\n",
       "URL                                                                                                     \n",
       "https://www.msn.com/en-us/news/crime/from-humil...  \\r\\n                Stacy St. Clair, Chicago T...   \n",
       "\n",
       "                                                                                             excerpts  \\\n",
       "URL                                                                                                     \n",
       "https://www.msn.com/en-us/news/crime/from-humil...  KENOSHA, Wis. \\\\\\ In the weeks leading up to K...   \n",
       "\n",
       "                                                    descriptor_count  \\\n",
       "URL                                                                    \n",
       "https://www.msn.com/en-us/news/crime/from-humil...                 3   \n",
       "\n",
       "                                                                                descriptor_name  \\\n",
       "URL                                                                                               \n",
       "https://www.msn.com/en-us/news/crime/from-humil...  [wide, confident, Kyle Rittenhouses murder]   \n",
       "\n",
       "                                                   descriptor_sentiment  \\\n",
       "URL                                                                       \n",
       "https://www.msn.com/en-us/news/crime/from-humil...             Negative   \n",
       "\n",
       "                                                     descriptor_class  \\\n",
       "URL                                                                     \n",
       "https://www.msn.com/en-us/news/crime/from-humil...  Negatively Biased   \n",
       "\n",
       "                                                   headline_sentiment  \n",
       "URL                                                                    \n",
       "https://www.msn.com/en-us/news/crime/from-humil...           Negative  "
      ]
     },
     "execution_count": 21,
     "metadata": {},
     "output_type": "execute_result"
    }
   ],
   "source": [
    "TMI_analysis.dataframe.head(1)"
   ]
  },
  {
   "cell_type": "markdown",
   "id": "3c50bd79-526c-4a8d-a8fa-d06dc69e487f",
   "metadata": {},
   "source": [
    "---"
   ]
  },
  {
   "cell_type": "markdown",
   "id": "e1359e48-b2af-4182-aca3-90453f0f334c",
   "metadata": {},
   "source": [
    "### 15. Object or Subject mentioned in Image Captions?"
   ]
  },
  {
   "cell_type": "markdown",
   "id": "82b5c3dd-71e8-4eac-8985-66fbeb260b4e",
   "metadata": {},
   "source": [
    "Check if the image captions contains the Subject or Object of the headline. \n",
    "\n",
    "<b>S</b> = Subject in headline\n",
    "\n",
    "<b>O</b> = Object in headline\n",
    "\n",
    "<b>S/O</b> = Subject & Object in headline"
   ]
  },
  {
   "cell_type": "code",
   "execution_count": 29,
   "id": "a7266a42-3d39-4ad7-9d4e-8f8353f1a8d7",
   "metadata": {},
   "outputs": [],
   "source": [
    "TMI_analysis.object_subject_mention_imagecaptions()"
   ]
  },
  {
   "cell_type": "markdown",
   "id": "4a65f0a0-346f-47da-87fa-aa37f0923ae8",
   "metadata": {},
   "source": [
    "### 16. Event + Dependencies"
   ]
  },
  {
   "cell_type": "markdown",
   "id": "6116f1ab-d31e-4e5f-aea4-1e3e201c9319",
   "metadata": {},
   "source": [
    "## Final Dataframe"
   ]
  },
  {
   "cell_type": "code",
   "execution_count": 1,
   "id": "b26dbb63-0d20-4ae0-9b74-53f2dc659c3f",
   "metadata": {},
   "outputs": [
    {
     "ename": "NameError",
     "evalue": "name 'TMI_analysis' is not defined",
     "output_type": "error",
     "traceback": [
      "\u001b[0;31m---------------------------------------------------------------------------\u001b[0m",
      "\u001b[0;31mNameError\u001b[0m                                 Traceback (most recent call last)",
      "\u001b[0;32m<ipython-input-1-8b0e34ac3c0a>\u001b[0m in \u001b[0;36m<module>\u001b[0;34m\u001b[0m\n\u001b[0;32m----> 1\u001b[0;31m \u001b[0mTMI_analysis\u001b[0m\u001b[0;34m.\u001b[0m\u001b[0mdataframe\u001b[0m\u001b[0;34m\u001b[0m\u001b[0;34m\u001b[0m\u001b[0m\n\u001b[0m",
      "\u001b[0;31mNameError\u001b[0m: name 'TMI_analysis' is not defined"
     ]
    }
   ],
   "source": [
    "TMI_analysis.dataframe"
   ]
  },
  {
   "cell_type": "code",
   "execution_count": null,
   "id": "c4a7f5a4-bb87-4b8b-ae8a-02e295812815",
   "metadata": {},
   "outputs": [],
   "source": []
  }
 ],
 "metadata": {
  "kernelspec": {
   "display_name": "Python 3 (ipykernel)",
   "language": "python",
   "name": "python3"
  },
  "language_info": {
   "codemirror_mode": {
    "name": "ipython",
    "version": 3
   },
   "file_extension": ".py",
   "mimetype": "text/x-python",
   "name": "python",
   "nbconvert_exporter": "python",
   "pygments_lexer": "ipython3",
   "version": "3.7.6"
  }
 },
 "nbformat": 4,
 "nbformat_minor": 5
}
